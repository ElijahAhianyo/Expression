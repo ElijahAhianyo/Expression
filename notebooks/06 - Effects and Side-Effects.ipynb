{
 "cells": [
  {
   "cell_type": "markdown",
   "metadata": {},
   "source": [
    "# Effects and Side-effects\n",
    "\n",
    "What are effects? What are side-effects?"
   ]
  },
  {
   "cell_type": "markdown",
   "metadata": {},
   "source": [
    "## Referential Transparency\n",
    "\n",
    "Is the result of an expression the same every time you evaluate it? Can you substitute an expression with the value? In functional programming the answer is always yes!\n",
    "\n",
    "What about Python?"
   ]
  },
  {
   "cell_type": "code",
   "execution_count": 25,
   "metadata": {},
   "outputs": [],
   "source": [
    "z = [42]\n",
    "\n",
    "def expr(a):\n",
    "    #return a + 1\n",
    "\n",
    "    a += int(input())  \n",
    "    return a\n",
    "    #print(a)\n",
    "    #z[0] += a\n",
    "    #return z[0]"
   ]
  },
  {
   "cell_type": "markdown",
   "metadata": {},
   "source": [
    "Are these programs the same?"
   ]
  },
  {
   "cell_type": "code",
   "execution_count": 26,
   "metadata": {},
   "outputs": [
    {
     "name": "stdin",
     "output_type": "stream",
     "text": [
      " 42\n"
     ]
    },
    {
     "data": {
      "text/plain": [
       "(84, 84)"
      ]
     },
     "execution_count": 26,
     "metadata": {},
     "output_type": "execute_result"
    }
   ],
   "source": [
    "a = expr(42)\n",
    "a, a"
   ]
  },
  {
   "cell_type": "code",
   "execution_count": 27,
   "metadata": {},
   "outputs": [
    {
     "name": "stdin",
     "output_type": "stream",
     "text": [
      " 42\n",
      " 43\n"
     ]
    },
    {
     "data": {
      "text/plain": [
       "(84, 85)"
      ]
     },
     "execution_count": 27,
     "metadata": {},
     "output_type": "execute_result"
    }
   ],
   "source": [
    "expr(42), expr(42)"
   ]
  },
  {
   "cell_type": "markdown",
   "metadata": {},
   "source": [
    "We need to be very careful with non-pure functions. Always look out for code smell:\n",
    "\n",
    "* Functions or methods that takes no arguments, i.e `Callable[[None], Result]`\n",
    "* Functions or methods that retunrs nothing, i.e `Callable[..., None]`"
   ]
  },
  {
   "cell_type": "markdown",
   "metadata": {},
   "source": [
    "## Side Effects\n",
    "\n",
    "Functions that are not referenctial transparent\n",
    "\n",
    "Look out for functions that either takes or returns `None`. They are not composable. What do these two functions do?"
   ]
  },
  {
   "cell_type": "code",
   "execution_count": 73,
   "metadata": {},
   "outputs": [],
   "source": [
    "def get() -> str:\n",
    "    ...\n",
    "    \n",
    "    \n",
    "def put(text: str) -> None:\n",
    "    ..."
   ]
  },
  {
   "cell_type": "markdown",
   "metadata": {},
   "source": [
    "How can we fix the problem? The solution is that the functions should take and return something to make them pure"
   ]
  },
  {
   "cell_type": "code",
   "execution_count": 62,
   "metadata": {
    "slideshow": {
     "slide_type": "slide"
    }
   },
   "outputs": [],
   "source": [
    "from typing import Generic, Tuple, TypeVar\n",
    "\n",
    "TSource = TypeVar(\"TSource\")\n",
    "\n",
    "class Io(Generic[TSource]):\n",
    "    def __init__(self, fn):\n",
    "        self.__fn = fn  # a world changing function\n",
    "        \n",
    "    def rtn(a) -> \"Io[TSource]\": \n",
    "        return Io(lambda world: (a, world + 1))\n",
    "    \n",
    "    def run(self, world: int=0) -> Tuple[TSource, int]:\n",
    "        return self.__fn(world)\n",
    "    \n",
    "    def bind(self, fn: Callable[[TSource], \"Io[TSource]\"]) -> \"Io[TSource]\":\n",
    "        def run(world):\n",
    "            a, newWorld = self.run(world)\n",
    "            return fn(a).run(newWorld)\n",
    "        return Io(run)\n",
    "    \n",
    "    def __repr__(self):\n",
    "        return \"Io\""
   ]
  },
  {
   "cell_type": "code",
   "execution_count": 74,
   "metadata": {
    "slideshow": {
     "slide_type": "slide"
    }
   },
   "outputs": [],
   "source": [
    "from typing import Callable\n",
    "\n",
    "def put(string) -> Io[str]:\n",
    "    def side_effect(_):\n",
    "        return Io.rtn(print(string))\n",
    "        \n",
    "    return Io.rtn(None).bind(side_effect)\n",
    "\n",
    "def get(fn: Callable[[str], Io[str]]) -> Io[str]:\n",
    "    def side_effect(_):\n",
    "        return fn(input())\n",
    "    return Io.rtn(None).bind(side_effect)"
   ]
  },
  {
   "cell_type": "code",
   "execution_count": 76,
   "metadata": {
    "slideshow": {
     "slide_type": "slide"
    }
   },
   "outputs": [
    {
     "data": {
      "text/plain": [
       "(Io, Io)"
      ]
     },
     "execution_count": 76,
     "metadata": {},
     "output_type": "execute_result"
    }
   ],
   "source": [
    "io = put(\"Hello, what is your name?\").bind(\n",
    "    lambda _: get(\n",
    "        lambda name: put(\"What is your age?\").bind(\n",
    "            lambda _: get(\n",
    "                lambda age: put(\"Hello %s, your age is %d.\" % (name, int(age)))\n",
    "            )\n",
    "        )\n",
    "    ))\n",
    "\n",
    "(io, io)"
   ]
  },
  {
   "cell_type": "markdown",
   "metadata": {},
   "source": [
    "Are they the same? We really don't know. We are not allowed to look inside the box. But we can run the effect:"
   ]
  },
  {
   "cell_type": "code",
   "execution_count": 77,
   "metadata": {},
   "outputs": [
    {
     "name": "stdout",
     "output_type": "stream",
     "text": [
      "Hello, what is your name?\n"
     ]
    },
    {
     "name": "stdin",
     "output_type": "stream",
     "text": [
      " Dag\n"
     ]
    },
    {
     "name": "stdout",
     "output_type": "stream",
     "text": [
      "What is your age?\n"
     ]
    },
    {
     "name": "stdin",
     "output_type": "stream",
     "text": [
      " 51\n"
     ]
    },
    {
     "name": "stdout",
     "output_type": "stream",
     "text": [
      "Hello Dag, your age is 51.\n"
     ]
    },
    {
     "data": {
      "text/plain": [
       "(None, 8)"
      ]
     },
     "execution_count": 77,
     "metadata": {},
     "output_type": "execute_result"
    }
   ],
   "source": [
    "io.run(world=0)"
   ]
  },
  {
   "cell_type": "markdown",
   "metadata": {},
   "source": [
    "## Effects\n",
    "\n",
    "Effects are not the same as side-effects. Effects are just values with a context. The context is different for every effect.\n",
    "\n",
    "* Option\n",
    "* Result\n",
    "* FrozenList\n",
    "* Observable\n",
    "* Async\n",
    "* AsyncObservable\n",
    "* Io\n",
    "* ...\n",
    "\n",
    "## Effects in Expression\n",
    "\n",
    "Expression have a nice way of dealing with effects and lets you safely work with wrapped values wihout having to error check:"
   ]
  },
  {
   "cell_type": "code",
   "execution_count": 86,
   "metadata": {},
   "outputs": [
    {
     "name": "stdout",
     "output_type": "stream",
     "text": [
      "The result is 33.0\n"
     ]
    },
    {
     "data": {
      "text/plain": [
       "Some 33.0"
      ]
     },
     "execution_count": 86,
     "metadata": {},
     "output_type": "execute_result"
    }
   ],
   "source": [
    "from expression import effect\n",
    "from expression.core import option, Option, Some, Nothing\n",
    "\n",
    "def divide(a: float, divisor: float) -> Option[int]:\n",
    "    try:\n",
    "        return Some(a/divisor)\n",
    "    except ZeroDivisionError:\n",
    "        return Nothing\n",
    "\n",
    "\n",
    "@effect.option\n",
    "def comp(x):\n",
    "    result = yield from divide(42, x)\n",
    "    result += 32\n",
    "    print(f\"The result is {result}\")\n",
    "    return result\n",
    "\n",
    "comp(42)"
   ]
  },
  {
   "cell_type": "markdown",
   "metadata": {
    "slideshow": {
     "slide_type": "slide"
    }
   },
   "source": [
    "## Living on the edge ...\n",
    "\n",
    "We have seen that we can create other wrapped worlds such as sequences, lists, results and options. On the edge of such a world you will find other objects that we usually do not want to work with:\n",
    "\n",
    "* None,\n",
    "* Exceptions\n",
    "* Callbacks, continuations and `run`\n",
    "* Iterators and `__iter__` \n",
    "* Observers and `subscribe` \n",
    "\n",
    "## Summary\n",
    "\n",
    "- Effects are what we call *elevated* world\n",
    "- An elevated world is a strange place where basically anything is possible. \n",
    "- Two elevated worlds may e.g `Result`, `Option`, `Map` and `Io` may be completely different, but they still have the same basic structure.\n",
    "- But still every normal value has a corresponding elevated value. \n",
    "- Every function has a corresponding elevated function."
   ]
  },
  {
   "cell_type": "code",
   "execution_count": null,
   "metadata": {},
   "outputs": [],
   "source": []
  }
 ],
 "metadata": {
  "celltoolbar": "Slideshow",
  "jupytext": {
   "cell_metadata_filter": "-all",
   "formats": "ipynb,md",
   "notebook_metadata_filter": "-all"
  },
  "kernelspec": {
   "display_name": "Python 3",
   "language": "python",
   "name": "python3"
  },
  "language": "fsharp",
  "language_info": {
   "codemirror_mode": {
    "name": "ipython",
    "version": 3
   },
   "file_extension": ".py",
   "mimetype": "text/x-python",
   "name": "python",
   "nbconvert_exporter": "python",
   "pygments_lexer": "ipython3",
   "version": "3.9.0"
  }
 },
 "nbformat": 4,
 "nbformat_minor": 4
}
