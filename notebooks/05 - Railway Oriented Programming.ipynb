{
 "cells": [
  {
   "cell_type": "markdown",
   "metadata": {
    "slideshow": {
     "slide_type": "slide"
    }
   },
   "source": [
    "# Railway Oriented Programming (ROP)\n",
    "\n",
    "- We don't really want to raise exceptions since it makes the code bloated with error checking\n",
    "- It's also easy to forget to handle exceptions\n",
    "- Dependencies might even change the kind of exceptions they throw\n",
    "- Let's model errors using types instead"
   ]
  },
  {
   "cell_type": "code",
   "execution_count": 1,
   "metadata": {
    "slideshow": {
     "slide_type": "slide"
    }
   },
   "outputs": [],
   "source": [
    "class Result:\n",
    "    pass"
   ]
  },
  {
   "cell_type": "code",
   "execution_count": 2,
   "metadata": {
    "slideshow": {
     "slide_type": "fragment"
    }
   },
   "outputs": [],
   "source": [
    "class Ok(Result):\n",
    "    def __init__(self, value):\n",
    "        self._value = value\n",
    "    \n",
    "    def __str__(self):\n",
    "        return \"Ok %s\" % str(self._value)\n",
    "\n",
    "class Error(Result):\n",
    "    def __init__(self, exn):\n",
    "        self._exn = exn\n",
    "    \n",
    "    def __str__(self):\n",
    "        return \"Error %s\" % str(self._exn)"
   ]
  },
  {
   "cell_type": "markdown",
   "metadata": {},
   "source": [
    "The Expression library contains a similar but more feature complete Result class we can use:"
   ]
  },
  {
   "cell_type": "code",
   "execution_count": 3,
   "metadata": {
    "slideshow": {
     "slide_type": "slide"
    }
   },
   "outputs": [],
   "source": [
    "from expression.core import Ok, Error\n",
    "\n",
    "def fetch(url):\n",
    "    try:\n",
    "        if not \"http://\" in url:\n",
    "            raise Exception(\"Error: unable to fetch from: '%s'\" % url)\n",
    "            \n",
    "        value = url.replace(\"http://\", \"\")\n",
    "        return Ok(value)\n",
    "    except Exception as exn:\n",
    "        return Error(exn)"
   ]
  },
  {
   "cell_type": "code",
   "execution_count": 4,
   "metadata": {
    "slideshow": {
     "slide_type": "fragment"
    }
   },
   "outputs": [
    {
     "name": "stdout",
     "output_type": "stream",
     "text": [
      "Ok 42\n"
     ]
    }
   ],
   "source": [
    "result = fetch(\"http://42\")\n",
    "print(result)"
   ]
  },
  {
   "cell_type": "code",
   "execution_count": 5,
   "metadata": {
    "slideshow": {
     "slide_type": "slide"
    }
   },
   "outputs": [],
   "source": [
    "def parse(string):\n",
    "    try:\n",
    "        value = float(string)\n",
    "        return Ok(value)\n",
    "    except Exception as exn:\n",
    "        return Error(exn)"
   ]
  },
  {
   "cell_type": "code",
   "execution_count": 6,
   "metadata": {
    "slideshow": {
     "slide_type": "fragment"
    }
   },
   "outputs": [
    {
     "name": "stdout",
     "output_type": "stream",
     "text": [
      "Ok 42.0\n"
     ]
    }
   ],
   "source": [
    "result = parse(\"42\")\n",
    "print(result)"
   ]
  },
  {
   "cell_type": "markdown",
   "metadata": {
    "slideshow": {
     "slide_type": "slide"
    }
   },
   "source": [
    "# Composition \n",
    "\n",
    "How should we compose Result returning functions? How can we make a `fetch_parse` from `fetch` and `parse`. \n",
    "\n",
    "Cannot use functional composition since signatures don't match.\n",
    "\n",
    "```py\n",
    "def compose(fn: Callable[[A], Result[B, TError]], gn: Callable[[B], Result[C, TError]]) -> Callable[[A], Result[C, TError]]:\n",
    "    fun x -> ???\n",
    "```\n",
    "\n",
    "First we can try to solve this with an \"imperative\" implementation using type-checks and `if-else` statements:"
   ]
  },
  {
   "cell_type": "code",
   "execution_count": 7,
   "metadata": {
    "slideshow": {
     "slide_type": "fragment"
    }
   },
   "outputs": [
    {
     "name": "stdout",
     "output_type": "stream",
     "text": [
      "Ok 42.0\n"
     ]
    }
   ],
   "source": [
    "def fetch_parse(url):\n",
    "    b = fetch(url)\n",
    "    if isinstance(b, Ok):\n",
    "        val_b = b._value # <--- Don't look inside the box!!!\n",
    "        return parse(val_b)            \n",
    "    else: # Must be error\n",
    "        return b\n",
    "\n",
    "result = fetch_parse(\"http://42\")\n",
    "print(result)"
   ]
  },
  {
   "cell_type": "markdown",
   "metadata": {},
   "source": [
    "This works, but the code is not easy to read. We have also hard-coded the logic to it's not possible to easily reuse without copy/paste. Here is a nice example on how to solve this by mixing object-oriented code with functional thinking:"
   ]
  },
  {
   "cell_type": "code",
   "execution_count": 8,
   "metadata": {
    "slideshow": {
     "slide_type": "slide"
    }
   },
   "outputs": [],
   "source": [
    "class Ok(Result):\n",
    "    def __init__(self, value):\n",
    "        self._value = value\n",
    "\n",
    "    def bind(self, fn):\n",
    "        return fn(self._value)\n",
    "\n",
    "    def __str__(self):\n",
    "        return \"Ok %s\" % str(self._value)\n",
    "\n",
    "class Error(Result):\n",
    "    def __init__(self, exn):\n",
    "        self._exn = exn\n",
    "        \n",
    "    def bind(self, fn):\n",
    "        return self\n",
    "    \n",
    "    def __str__(self):\n",
    "        return \"Error %s\" % str(self._exn)\n",
    "    \n",
    "def bind(fn, result):\n",
    "    \"\"\"We don't want method chaining in Python.\"\"\"\n",
    "    return result.bind(fn)"
   ]
  },
  {
   "cell_type": "code",
   "execution_count": 9,
   "metadata": {
    "slideshow": {
     "slide_type": "fragment"
    }
   },
   "outputs": [
    {
     "name": "stdout",
     "output_type": "stream",
     "text": [
      "Ok 42.0\n"
     ]
    }
   ],
   "source": [
    "result = bind(parse, fetch(\"http://42\"))\n",
    "print(result)"
   ]
  },
  {
   "cell_type": "code",
   "execution_count": 10,
   "metadata": {
    "slideshow": {
     "slide_type": "slide"
    }
   },
   "outputs": [],
   "source": [
    "def compose(f, g):\n",
    "    return lambda x: f(x).bind(g)"
   ]
  },
  {
   "cell_type": "code",
   "execution_count": 11,
   "metadata": {
    "slideshow": {
     "slide_type": "fragment"
    }
   },
   "outputs": [
    {
     "name": "stdout",
     "output_type": "stream",
     "text": [
      "Ok 123.0\n"
     ]
    }
   ],
   "source": [
    "fetch_parse = compose(fetch, parse)\n",
    "result = fetch_parse(\"http://123.0\")\n",
    "print(result)"
   ]
  },
  {
   "cell_type": "code",
   "execution_count": 12,
   "metadata": {
    "scrolled": true,
    "slideshow": {
     "slide_type": "fragment"
    }
   },
   "outputs": [
    {
     "name": "stdout",
     "output_type": "stream",
     "text": [
      "Error could not convert string to float: 'invalid'\n"
     ]
    }
   ],
   "source": [
    "result = fetch(\"http://invalid\").bind(parse)\n",
    "print(result)"
   ]
  },
  {
   "cell_type": "markdown",
   "metadata": {},
   "source": [
    "### But what if we wanted to call fetch 10 times in a row?\n",
    "\n",
    "This is what's called the \"Pyramide of Doom\":"
   ]
  },
  {
   "cell_type": "code",
   "execution_count": 13,
   "metadata": {},
   "outputs": [
    {
     "name": "stdout",
     "output_type": "stream",
     "text": [
      "Ok 123.0\n"
     ]
    }
   ],
   "source": [
    "from expression.core import result\n",
    "\n",
    "result = bind(parse, \n",
    "            bind(lambda x: fetch(\"http://%s\" % x),\n",
    "               bind(lambda x: fetch(\"http://%s\" % x),\n",
    "                  bind(lambda x: fetch(\"http://%s\" % x),\n",
    "                     bind(lambda x: fetch(\"http://%s\" % x),\n",
    "                         bind(lambda x: fetch(\"http://%s\" % x),\n",
    "                             bind(lambda x: fetch(\"http://%s\" % x),\n",
    "                                 fetch(\"http://123\")\n",
    "                            )\n",
    "                         )\n",
    "                     )\n",
    "                  )\n",
    "               )\n",
    "            )\n",
    "         )\n",
    "print(result)"
   ]
  },
  {
   "cell_type": "markdown",
   "metadata": {},
   "source": [
    "## Can we make a more generic compose?\n",
    "\n",
    "Let's try to make a general compose function that composes two result returning functions:"
   ]
  },
  {
   "cell_type": "code",
   "execution_count": 14,
   "metadata": {},
   "outputs": [
    {
     "name": "stdout",
     "output_type": "stream",
     "text": [
      "Ok 42.0\n"
     ]
    }
   ],
   "source": [
    "def compose(f, g):\n",
    "    return lambda x: f(x).bind(g)\n",
    "\n",
    "fetch_parse = compose(fetch, parse)\n",
    "result = fetch_parse(\"http://42\")\n",
    "print(result)"
   ]
  },
  {
   "cell_type": "markdown",
   "metadata": {},
   "source": [
    "## Pipelining\n",
    "\n",
    "Functional compose of functions that returns wrapped values is called pipeling in the Expression library. Other languages calls this \"Kleisli composition\". Using a reducer we can compose any number of functions:"
   ]
  },
  {
   "cell_type": "code",
   "execution_count": 15,
   "metadata": {},
   "outputs": [],
   "source": [
    "from functools import reduce\n",
    "\n",
    "def pipeline(*fns):\n",
    "    return reduce(lambda res, fn: lambda x: res(x).bind(fn), fns)"
   ]
  },
  {
   "cell_type": "markdown",
   "metadata": {},
   "source": [
    "Now, make `fetch_and_parse` using kleisli:"
   ]
  },
  {
   "cell_type": "code",
   "execution_count": 17,
   "metadata": {},
   "outputs": [
    {
     "name": "stdout",
     "output_type": "stream",
     "text": [
      "Ok 123.0\n"
     ]
    }
   ],
   "source": [
    "fetch_and_parse = pipeline(fetch, parse)\n",
    "result = fetch_and_parse(\"http://123\")\n",
    "print(result)"
   ]
  },
  {
   "cell_type": "markdown",
   "metadata": {},
   "source": [
    "### What if we wanted to call fetch 10 times in a row?"
   ]
  },
  {
   "cell_type": "code",
   "execution_count": 18,
   "metadata": {},
   "outputs": [
    {
     "name": "stdout",
     "output_type": "stream",
     "text": [
      "Ok 123.0\n"
     ]
    }
   ],
   "source": [
    "from expression.extra.result import pipeline\n",
    "\n",
    "fetch_with_value = lambda x: fetch(\"http://%s\" % x)\n",
    "\n",
    "request = pipeline(\n",
    "            fetch,\n",
    "            fetch_with_value,\n",
    "            fetch_with_value,\n",
    "            fetch_with_value,\n",
    "            fetch_with_value,\n",
    "            fetch_with_value,\n",
    "            fetch_with_value,\n",
    "            parse\n",
    "          )\n",
    "\n",
    "result = request(\"http://123\")\n",
    "print(result)"
   ]
  },
  {
   "cell_type": "code",
   "execution_count": null,
   "metadata": {},
   "outputs": [],
   "source": []
  }
 ],
 "metadata": {
  "celltoolbar": "Slideshow",
  "jupytext": {
   "cell_metadata_filter": "-all",
   "formats": "ipynb,md",
   "notebook_metadata_filter": "-all"
  },
  "kernelspec": {
   "display_name": "Python 3",
   "language": "python",
   "name": "python3"
  },
  "language": "fsharp",
  "language_info": {
   "codemirror_mode": {
    "name": "ipython",
    "version": 3
   },
   "file_extension": ".py",
   "mimetype": "text/x-python",
   "name": "python",
   "nbconvert_exporter": "python",
   "pygments_lexer": "ipython3",
   "version": "3.9.0"
  }
 },
 "nbformat": 4,
 "nbformat_minor": 4
}
