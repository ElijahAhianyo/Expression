{
 "cells": [
  {
   "cell_type": "markdown",
   "metadata": {
    "slideshow": {
     "slide_type": "slide"
    }
   },
   "source": [
    "\n",
    "# Functional Programming in Python\n",
    "\n",
    "> Do you know Python and would like to learn more about functional programming? Are you wondering what the Scala, F#, and Haskell developers are talking about? Let's do some functional programming in a language that you already know!\n",
    "\n",
    "This tutoral that will get you up to speed with functinal programming in Python using the [Expression](https://github.com/dbrattli/Expression) functional programming library.\n"
   ]
  },
  {
   "cell_type": "markdown",
   "metadata": {
    "slideshow": {
     "slide_type": "slide"
    }
   },
   "source": [
    "## Functional Programming\n",
    "\n",
    "Functional programming is about programming with functions, or *expressions*. An expression is a combination of functions and values that evaluates to a value.\n",
    "\n",
    "Functional programming can sometimes be seen as difficult, scary or even intimidating. Talks about functional programming are often about Applicatives, Functors, and you might have heard about Category Theory or the infamous Monad. But you don't need to know about category theory and Monads to do functional programming.\n",
    "\n",
    "Note that object-oriented programming can in the same way be just as scary with words such as Inheritance, Interfaces, Abstract Base Classes, Covariance, Contravariance and Liskovs substitution principle. \n",
    "\n",
    "Lets look at how some object oriented programming patterns maps to functional programming:\n",
    "\n",
    "![Fp Patterns](images/fppatterns.png)\n",
    "\n",
    "*(ref: https://fsharpforfunandprofit.com/fppatterns/)*\n",
    "\n",
    "If there is one takeaway from reading this, it is that functional programming is about expressions (functions and values) that evaluates to a value. This is stuff you most likely already know. It's really that simple.\n",
    "\n",
    "# Python\n",
    "\n",
    "Python is a multi-paradigm language:\n",
    "\n",
    "- **Imperative**: `assert a == 10`\n",
    "- **Object-oriented**: `class B: ...`\n",
    "- **Procedural**: `print(\"test\")`\n",
    "- ... and **Functional**: `xs = map(lambda x: x*2, [1, 2, 3])`\n",
    "\n",
    "So Python is not a functional programming language, but it has some functional programming features that we will explore in this tutorial. "
   ]
  },
  {
   "cell_type": "markdown",
   "metadata": {
    "slideshow": {
     "slide_type": "slide"
    }
   },
   "source": [
    "## Functions\n",
    "\n",
    "A function `f : A → B` takes some input `A` and produces some output `B`:"
   ]
  },
  {
   "cell_type": "code",
   "execution_count": 5,
   "metadata": {
    "slideshow": {
     "slide_type": "fragment"
    }
   },
   "outputs": [],
   "source": [
    "def add(a, b):\n",
    "    return a + b"
   ]
  },
  {
   "cell_type": "code",
   "execution_count": 6,
   "metadata": {
    "scrolled": true,
    "slideshow": {
     "slide_type": "fragment"
    }
   },
   "outputs": [
    {
     "data": {
      "text/plain": [
       "30"
      ]
     },
     "execution_count": 6,
     "metadata": {},
     "output_type": "execute_result"
    }
   ],
   "source": [
    "add(10, 20)"
   ]
  },
  {
   "cell_type": "markdown",
   "metadata": {
    "slideshow": {
     "slide_type": "slide"
    }
   },
   "source": [
    "## Lambda functions\n",
    "\n",
    "Using lambda we can create anonymous functions that we can assing to\n",
    "variables:"
   ]
  },
  {
   "cell_type": "code",
   "execution_count": 7,
   "metadata": {
    "slideshow": {
     "slide_type": "fragment"
    }
   },
   "outputs": [],
   "source": [
    "add = lambda a, b: a + b"
   ]
  },
  {
   "cell_type": "code",
   "execution_count": 8,
   "metadata": {
    "slideshow": {
     "slide_type": "fragment"
    }
   },
   "outputs": [
    {
     "data": {
      "text/plain": [
       "30"
      ]
     },
     "execution_count": 8,
     "metadata": {},
     "output_type": "execute_result"
    }
   ],
   "source": [
    "add(10, 20)"
   ]
  },
  {
   "cell_type": "markdown",
   "metadata": {
    "slideshow": {
     "slide_type": "slide"
    }
   },
   "source": [
    "# Pure functions\n",
    "\n",
    "Another aspect of functional programming is the concept of pure functions. A pure function is a function where the same input always gives the same output . Pure functions are  important for several reasons:\n",
    "\n",
    "- Pure functions are deteministic\n",
    "- Pure function can be unit-tested\n",
    "- Pure functions are thread safe\n",
    "- Pure functions can be memoized\n",
    "- Pure functions lowers the cognitive load. I.e they can be reasoned about.\n",
    "- Pure functions have no side-effects\n",
    "\n",
    "We will explore this further when we talk about \"Effects and Side-effects\".\n",
    "\n",
    "## Higher-Order Functions\n",
    "\n",
    "A function that takes another function as an argument, or returns a\n",
    "function as a result, is called a **higher-order** function. In order to\n",
    "pass functions around, they need to be what’s called **first-class**. A\n",
    "first-class function can be used the same way as any other Python value:\n",
    "\n",
    "- Assign a function or a method to a variable or object property.\n",
    "- Pass functions as arguments to other functions or methods.\n",
    "- Return functions as the result from other functions.\n",
    "- Create functions dynamically at runtime."
   ]
  },
  {
   "cell_type": "markdown",
   "metadata": {
    "slideshow": {
     "slide_type": "slide"
    }
   },
   "source": [
    "### Assign a function to a variable"
   ]
  },
  {
   "cell_type": "code",
   "execution_count": 9,
   "metadata": {
    "slideshow": {
     "slide_type": "fragment"
    }
   },
   "outputs": [],
   "source": [
    "multiply = lambda a, b: a * b"
   ]
  },
  {
   "cell_type": "code",
   "execution_count": 10,
   "metadata": {
    "slideshow": {
     "slide_type": "fragment"
    }
   },
   "outputs": [],
   "source": [
    "def add(a, b):\n",
    "    return a + b\n",
    "\n",
    "adding = add"
   ]
  },
  {
   "cell_type": "markdown",
   "metadata": {
    "slideshow": {
     "slide_type": "slide"
    }
   },
   "source": [
    "### A function returning a function"
   ]
  },
  {
   "cell_type": "code",
   "execution_count": 11,
   "metadata": {
    "slideshow": {
     "slide_type": "fragment"
    }
   },
   "outputs": [],
   "source": [
    "def add_n(n):\n",
    "    def partial(x):\n",
    "        return x+n\n",
    "    return partial"
   ]
  },
  {
   "cell_type": "code",
   "execution_count": 12,
   "metadata": {},
   "outputs": [
    {
     "data": {
      "text/plain": [
       "<function __main__.<lambda>(n)>"
      ]
     },
     "execution_count": 12,
     "metadata": {},
     "output_type": "execute_result"
    }
   ],
   "source": [
    "lambda n: lambda x: x+n"
   ]
  },
  {
   "cell_type": "markdown",
   "metadata": {
    "slideshow": {
     "slide_type": "slide"
    }
   },
   "source": [
    "### A function that takes a function as an argument"
   ]
  },
  {
   "cell_type": "code",
   "execution_count": 13,
   "metadata": {
    "slideshow": {
     "slide_type": "fragment"
    }
   },
   "outputs": [],
   "source": [
    "def square(x, multiply):\n",
    "    return multiply(x, x)"
   ]
  },
  {
   "cell_type": "markdown",
   "metadata": {
    "slideshow": {
     "slide_type": "slide"
    }
   },
   "source": [
    "### Create function dynamically at runtime\n",
    "\n",
    "*WARNING: you should normally never use eval because of security risks related\n",
    "to code injection*"
   ]
  },
  {
   "cell_type": "code",
   "execution_count": 14,
   "metadata": {
    "slideshow": {
     "slide_type": "fragment"
    }
   },
   "outputs": [
    {
     "data": {
      "text/plain": [
       "30"
      ]
     },
     "execution_count": 14,
     "metadata": {},
     "output_type": "execute_result"
    }
   ],
   "source": [
    "add_10 = eval(\"lambda x: x+10\")\n",
    "add_10(20)"
   ]
  },
  {
   "cell_type": "markdown",
   "metadata": {
    "slideshow": {
     "slide_type": "slide"
    }
   },
   "source": [
    "# Currying\n",
    "\n",
    "A function that takes two arguments is basically exactly the same as a function that takes one argument and returns a function that takes the second argument. \n",
    "\n",
    "Some languages like F# supports automatic currying of functions. Python does not support automatic currying of functions, but we can define functions that return functions.\n",
    "\n",
    "Here is a function that takes two arguments:"
   ]
  },
  {
   "cell_type": "code",
   "execution_count": 15,
   "metadata": {
    "slideshow": {
     "slide_type": "fragment"
    }
   },
   "outputs": [
    {
     "data": {
      "text/plain": [
       "30"
      ]
     },
     "execution_count": 15,
     "metadata": {},
     "output_type": "execute_result"
    }
   ],
   "source": [
    "add = lambda a, b: a + b\n",
    "add(10, 20)"
   ]
  },
  {
   "cell_type": "markdown",
   "metadata": {},
   "source": [
    "We can write this function as a function that takes one argument and returns a\n",
    "function that takes the second argument:"
   ]
  },
  {
   "cell_type": "code",
   "execution_count": 16,
   "metadata": {
    "scrolled": true,
    "slideshow": {
     "slide_type": "fragment"
    }
   },
   "outputs": [
    {
     "data": {
      "text/plain": [
       "30"
      ]
     },
     "execution_count": 16,
     "metadata": {},
     "output_type": "execute_result"
    }
   ],
   "source": [
    "add = lambda a: lambda b: a + b\n",
    "add(10)(20)"
   ]
  },
  {
   "cell_type": "markdown",
   "metadata": {
    "slideshow": {
     "slide_type": "slide"
    }
   },
   "source": [
    "# Composition\n",
    "\n",
    "In programming we are building programs by combining smaller pieces of code into larger ones. This is very similar to building with lego bricks. Combining many small lego bricks into larger constructions, is more flexible than having a few fixed large\n",
    "size pieces to start with.\n",
    "\n",
    "> *Composition is the essence of programming - Bartosz Milewski*\n",
    "\n",
    "```fsharp\n",
    "// F#\n",
    "let compose (f: 'a -> 'b) (g: 'b -> 'c) : 'a -> 'c =\n",
    "    f >> g\n",
    "```\n",
    "\n",
    "```python\n",
    "# Python\n",
    "let compose(f: Callable[[A], B], g: Callable[[B], C]) -> Callable[[A], C]:\n",
    "    lambda x: g(f(x))\n",
    "```"
   ]
  },
  {
   "cell_type": "code",
   "execution_count": 5,
   "metadata": {
    "slideshow": {
     "slide_type": "slide"
    }
   },
   "outputs": [
    {
     "data": {
      "text/plain": [
       "86"
      ]
     },
     "execution_count": 5,
     "metadata": {},
     "output_type": "execute_result"
    }
   ],
   "source": [
    "def f(x):\n",
    "    return x+1\n",
    "\n",
    "def g(x):\n",
    "    return x*2\n",
    "\n",
    "# Procedural / imperative composition. The function `h` becomes hard-coded to `f` ang `g`\n",
    "def h(x):\n",
    "    y = f(x)\n",
    "    z = g(y)\n",
    "    return z\n",
    "h(42)"
   ]
  },
  {
   "cell_type": "code",
   "execution_count": 7,
   "metadata": {
    "slideshow": {
     "slide_type": "slide"
    }
   },
   "outputs": [
    {
     "data": {
      "text/plain": [
       "86"
      ]
     },
     "execution_count": 7,
     "metadata": {},
     "output_type": "execute_result"
    }
   ],
   "source": [
    "# Functional compose. Inject all dependencies.\n",
    "def compose(f, g):\n",
    "    return lambda x: g(f(x))\n",
    "\n",
    "h = compose(f, g)\n",
    "h(42)"
   ]
  },
  {
   "cell_type": "markdown",
   "metadata": {},
   "source": [
    "## Functional Composition is Associative"
   ]
  },
  {
   "cell_type": "code",
   "execution_count": 8,
   "metadata": {},
   "outputs": [],
   "source": [
    "def test(x):\n",
    "    f = lambda x: x + 1\n",
    "    g = lambda x: x * 2\n",
    "    h = lambda x: x - 10\n",
    "\n",
    "    right = compose(f, compose(g, h))\n",
    "    left = compose(compose(f, g), h)\n",
    "\n",
    "    assert right(x) == left(x)\n",
    "    \n",
    "test(10)"
   ]
  },
  {
   "cell_type": "markdown",
   "metadata": {},
   "source": [
    "## Believe the Type\n",
    "\n",
    "Python is a strongly typed dynamic programming language. This means that the type of a variable is only checked at runtime. Other languages such as F#, Scala, Haskell to type checking at compile time."
   ]
  },
  {
   "cell_type": "code",
   "execution_count": 3,
   "metadata": {
    "tags": [
     "outputPrepend"
    ]
   },
   "outputs": [],
   "source": [
    "def run():\n",
    "    return \"abc\" + 10"
   ]
  },
  {
   "cell_type": "code",
   "execution_count": 4,
   "metadata": {},
   "outputs": [
    {
     "ename": "TypeError",
     "evalue": "can only concatenate str (not \"int\") to str",
     "output_type": "error",
     "traceback": [
      "\u001b[0;31m---------------------------------------------------------------------------\u001b[0m",
      "\u001b[0;31mTypeError\u001b[0m                                 Traceback (most recent call last)",
      "\u001b[0;32m<ipython-input-4-ec9775ede022>\u001b[0m in \u001b[0;36m<module>\u001b[0;34m\u001b[0m\n\u001b[0;32m----> 1\u001b[0;31m \u001b[0mrun\u001b[0m\u001b[0;34m(\u001b[0m\u001b[0;34m)\u001b[0m\u001b[0;34m\u001b[0m\u001b[0;34m\u001b[0m\u001b[0m\n\u001b[0m",
      "\u001b[0;32m<ipython-input-3-8289fa184dd8>\u001b[0m in \u001b[0;36mrun\u001b[0;34m()\u001b[0m\n\u001b[1;32m      1\u001b[0m \u001b[0;32mdef\u001b[0m \u001b[0mrun\u001b[0m\u001b[0;34m(\u001b[0m\u001b[0;34m)\u001b[0m\u001b[0;34m:\u001b[0m\u001b[0;34m\u001b[0m\u001b[0;34m\u001b[0m\u001b[0m\n\u001b[0;32m----> 2\u001b[0;31m     \u001b[0;32mreturn\u001b[0m \u001b[0;34m\"abc\"\u001b[0m \u001b[0;34m+\u001b[0m \u001b[0;36m10\u001b[0m\u001b[0;34m\u001b[0m\u001b[0;34m\u001b[0m\u001b[0m\n\u001b[0m",
      "\u001b[0;31mTypeError\u001b[0m: can only concatenate str (not \"int\") to str"
     ]
    }
   ],
   "source": [
    "run()"
   ]
  },
  {
   "cell_type": "markdown",
   "metadata": {},
   "source": [
    "But there are a several static type checkers for Python that we can use:\n",
    "\n",
    "* **Mypy:** https://github.com/python/mypy\n",
    "* **Pyre-check:** https://github.com/facebook/pyre-check\n",
    "* **Pylance:** https://github.com/microsoft/pylance-release\n",
    "\n",
    "Static type checkers can significantly improve the quality of the code\n",
    "\n",
    "## Industrial Strength Code\n",
    "\n",
    "In this tutorial we are aiming for industral strength code. What is industrial strength?\n",
    "\n",
    "> Marked by more than usual power, durability, or intensity \n",
    "\n",
    "The difference with \"more than usual\" can be subtle, but even a subtle difference can have a significant effect when you start deploing to 100.000 servers (e.g Exchange, Facebook, etc) instead of a single server. You need to plan for more than being lucky.\n",
    "\n",
    "- Use simple well tested abstractions. Don't reinvent the wheel.\n",
    "- Use immutable data types whenever possible.\n",
    "- Use pure functions. Avoid None-taking/returning methods or functions\n",
    "- Use a static type checker like Pylance (in strict mode)\n",
    "- Use unit-testing and property-based testing for core logic. E.g a library like Hypotheses\n",
    "\n",
    "Cost of failure increases exponentially the further the bug \n",
    "\n",
    "- Type checks (instant)\n",
    "- Unit tests (seconds)\n",
    "- Integration tests (minutes and hours)\n",
    "- Test deployment (hours and days)\n",
    "- Production deployment (days and months)\n",
    "- Dedicated deployment on-prem at customer location (💸)\n",
    "\n",
    "\n",
    "![art of bugfixing](images/art-of-bugfixing.png)"
   ]
  },
  {
   "cell_type": "code",
   "execution_count": null,
   "metadata": {},
   "outputs": [],
   "source": []
  }
 ],
 "metadata": {
  "celltoolbar": "Slideshow",
  "jupytext": {
   "cell_metadata_filter": "-all",
   "encoding": "# -*- coding: utf-8 -*-",
   "formats": "ipynb,md",
   "notebook_metadata_filter": "-all"
  },
  "kernelspec": {
   "display_name": "Python 3",
   "language": "python",
   "name": "python3"
  },
  "language": "fsharp",
  "language_info": {
   "codemirror_mode": {
    "name": "ipython",
    "version": 3
   },
   "file_extension": ".py",
   "mimetype": "text/x-python",
   "name": "python",
   "nbconvert_exporter": "python",
   "pygments_lexer": "ipython3",
   "version": "3.9.0"
  }
 },
 "nbformat": 4,
 "nbformat_minor": 4
}
