{
 "cells": [
  {
   "cell_type": "markdown",
   "metadata": {
    "slideshow": {
     "slide_type": "slide"
    }
   },
   "source": [
    "# Containers\n",
    "\n",
    "In Python a container is something that contains something. Containers may be sequences, sets or mappings. Thus a collection is an **abstraction** of **\"something\"** that:\n",
    "\n",
    "- May contain **something**\n",
    "- Sequences are iterable\n",
    "- Collections have a size\n",
    "\n",
    "We usually talk about generic container types such as `List[T]`, `Set[T]`, `Tuple[T, ...]`. But we can also imagine taking the abstraction to a higher-order making the left side generic as well, e.g `Something[T]`. What do types of `Something` have in common?\n",
    "\n",
    "> *A something within a something*\n",
    "\n",
    "A container is really just some kind of box that you can pull values out of. Can values be pushed out of a container?\n",
    "\n",
    "## Mapping\n",
    "\n",
    "A mapping object maps immutable values to arbitrary objects. There is both `Mapping` and `MutableMapping`. The most known mutable mapping is the `dict` type.\n",
    "\n",
    "## Sequence\n",
    "\n",
    "A sequence is an iterable container such as `List`, `Tuple`, `str`, ...\n",
    "\n",
    "## Immutable data types\n",
    "\n",
    "Immutable data types are important in functional programming. Immutable means that it's not possible to make any changes after the type have been created. Most data structures in Python are mutable such as `List` and `Dict`, but Python also have a few immutable data types:\n",
    "\n",
    "* Strings\n",
    "* Tuples\n",
    "* Iterable\n",
    "\n",
    "The advantages of immutable data types are:\n",
    "\n",
    "* Thread-safe. Multiple threads cannot modify or corrupt the state.\n",
    "* Safe to share and reuse\n",
    "* Easy to reason about. Reduces the cognitive load\n",
    "* Easier to debug\n",
    "\n",
    "Expression extends Python with a couple of more immutable data types:\n",
    "\n",
    "## FrozenList\n",
    "\n",
    "A FrozenList is an immutable List type. The implementation is based on the already immutable tuple type but gives it a list feeling and lots of functions and methods to work with it."
   ]
  },
  {
   "cell_type": "code",
   "execution_count": 24,
   "metadata": {},
   "outputs": [
    {
     "name": "stdout",
     "output_type": "stream",
     "text": [
      "[0, 1, 2, 3, 4, 5, 6, 7, 8, 9]\n",
      "[10, 0, 1, 2, 3, 4, 5, 6, 7, 8, 9]\n",
      "[1, 2, 3, 4, 5, 6, 7, 8, 9]\n"
     ]
    }
   ],
   "source": [
    "from expression.collections import FrozenList\n",
    "\n",
    "xs = FrozenList.of_seq(range(10))\n",
    "print(xs)\n",
    "\n",
    "ys = xs.cons(10)\n",
    "print(ys)\n",
    "\n",
    "zs = xs.tail()\n",
    "print(zs)"
   ]
  },
  {
   "cell_type": "markdown",
   "metadata": {
    "slideshow": {
     "slide_type": "slide"
    }
   },
   "source": [
    "## Map\n",
    "\n",
    "The Expression Map module is an immutable Dict type. The implementation is based on map type from F# and uses a balanced binary tree implementation."
   ]
  },
  {
   "cell_type": "code",
   "execution_count": 25,
   "metadata": {},
   "outputs": [
    {
     "name": "stdout",
     "output_type": "stream",
     "text": [
      "map [(\"a\", 10); (\"b\", 20)]\n",
      "map [(\"b\", 20)]\n"
     ]
    }
   ],
   "source": [
    "from expression.collections import Map\n",
    "\n",
    "items = dict(a=10, b=20).items()\n",
    "xs = Map.of_seq(items)\n",
    "print(xs)\n",
    "\n",
    "ys = xs.filter(lambda k, v: v>10)\n",
    "print(ys)"
   ]
  },
  {
   "cell_type": "markdown",
   "metadata": {
    "slideshow": {
     "slide_type": "slide"
    }
   },
   "source": [
    "## Functions are Containers\n",
    "\n",
    "It might not be obvious at first, but functions can also be containers. This is because values might be stored in function closures. That means that a value might be visible in the scope of the function.\n",
    "\n",
    "> A closure is a poor man's object. An object is a poor man's closure.\n",
    "\n",
    "In functional programming we often use function arguments to store values instead of objects"
   ]
  },
  {
   "cell_type": "code",
   "execution_count": 26,
   "metadata": {
    "slideshow": {
     "slide_type": "fragment"
    }
   },
   "outputs": [],
   "source": [
    "def hat(item):\n",
    "    def pull():\n",
    "        return item\n",
    "    return pull\n",
    "\n",
    "small_hat = lambda item: lambda pull: item"
   ]
  },
  {
   "cell_type": "code",
   "execution_count": 27,
   "metadata": {
    "slideshow": {
     "slide_type": "fragment"
    }
   },
   "outputs": [
    {
     "data": {
      "text/plain": [
       "'rabbit'"
      ]
     },
     "execution_count": 27,
     "metadata": {},
     "output_type": "execute_result"
    }
   ],
   "source": [
    "pull = hat(\"rabbit\")\n",
    "pull()"
   ]
  },
  {
   "cell_type": "markdown",
   "metadata": {
    "slideshow": {
     "slide_type": "slide"
    }
   },
   "source": [
    "## List out of lambda (LOL)\n",
    "\n",
    "We can even create a fully functional list implementation using only functions:"
   ]
  },
  {
   "cell_type": "code",
   "execution_count": 28,
   "metadata": {
    "slideshow": {
     "slide_type": "fragment"
    }
   },
   "outputs": [],
   "source": [
    "empty_list = None\n",
    "\n",
    "def prepend(el, lst):\n",
    "    return lambda selector: selector(el, lst)\n",
    "\n",
    "def head(lst):\n",
    "    return lst(lambda h, t: h)\n",
    "\n",
    "def tail(lst):\n",
    "    return lst(lambda h, t: t)\n",
    "\n",
    "def is_empty(lst):\n",
    "    return (lst == empty_list)"
   ]
  },
  {
   "cell_type": "code",
   "execution_count": 29,
   "metadata": {},
   "outputs": [
    {
     "name": "stdout",
     "output_type": "stream",
     "text": [
      "all tests are green!\n"
     ]
    }
   ],
   "source": [
    "a = prepend(\"a\", prepend(\"b\", empty_list))\n",
    "\n",
    "assert(\"a\" == head(a))\n",
    "assert(\"b\" == head(tail(a)))\n",
    "assert(tail(tail(a))==empty_list)\n",
    "assert(not is_empty(a))\n",
    "assert(is_empty(empty_list))\n",
    "\n",
    "print(\"all tests are green!\")"
   ]
  },
  {
   "cell_type": "markdown",
   "metadata": {
    "slideshow": {
     "slide_type": "slide"
    }
   },
   "source": [
    "## LOL (more compact)\n",
    "\n",
    "A list can be created using only lambda functions:"
   ]
  },
  {
   "cell_type": "code",
   "execution_count": 30,
   "metadata": {
    "slideshow": {
     "slide_type": "fragment"
    }
   },
   "outputs": [],
   "source": [
    "empty_list = None\n",
    "prepend = lambda el, lst: lambda selector: selector(el, lst)\n",
    "head = lambda lst: lst(lambda h, t: h)\n",
    "tail = lambda lst: lst(lambda h, t: t)\n",
    "is_empty = lambda lst: lst is empty_list"
   ]
  },
  {
   "cell_type": "code",
   "execution_count": 31,
   "metadata": {
    "slideshow": {
     "slide_type": "fragment"
    }
   },
   "outputs": [
    {
     "name": "stdout",
     "output_type": "stream",
     "text": [
      "all tests are green!\n"
     ]
    }
   ],
   "source": [
    "a = prepend(\"a\", prepend(\"b\", empty_list))\n",
    "\n",
    "assert(\"a\" == head(a))\n",
    "assert(\"b\" == head(tail(a)))\n",
    "assert(tail(tail(a))==empty_list)\n",
    "assert(not is_empty(a))\n",
    "assert(is_empty(empty_list))\n",
    "\n",
    "print(\"all tests are green!\")"
   ]
  },
  {
   "cell_type": "markdown",
   "metadata": {},
   "source": [
    "## Pull vs Push\n",
    "\n",
    "List, iterables, mappings, strings etc are what we call \"pull\" collections. This is because we are actively pulling the values out of the collection by calling the `next()` function on the Iterator."
   ]
  },
  {
   "cell_type": "code",
   "execution_count": 32,
   "metadata": {},
   "outputs": [
    {
     "name": "stdout",
     "output_type": "stream",
     "text": [
      "1\n",
      "2\n",
      "3\n"
     ]
    }
   ],
   "source": [
    "iterable = [1, 2, 3]\n",
    "iterator = iter(iterable)  # get iterator\n",
    "\n",
    "value = next(iterator)\n",
    "print(value)\n",
    "\n",
    "value = next(iterator)\n",
    "print(value)\n",
    "\n",
    "value = next(iterator)\n",
    "print(value)\n",
    "\n",
    "# value = next(iterator)"
   ]
  },
  {
   "cell_type": "markdown",
   "metadata": {},
   "source": [
    "## Push Collections\n",
    "\n",
    "A push collection is something that pushes values out of the collection. This can be seen as temporal (push) containers vs spatial (pull) collections. This collection is called an Observable and is the dual (or the opposite) of an Iterable.\n",
    "\n",
    "An `Iterable` have getter for getting an `Iterator` (__iter__)\n",
    "An `Obserable` have a setter for setting an `Observer` (subscribe)\n",
    "\n",
    "An `Iterator` have a getter for getting the next value (__next__)\n",
    "An `Observer` have a setter for setting the next value (on_next, or send)\n",
    "\n",
    "Summarized:\n",
    "\n",
    "* Iterable is a getter-getter function\n",
    "* Observable is a setter-setter function\n",
    "\n",
    "Let's try to implement an Observable using only functions:"
   ]
  },
  {
   "cell_type": "code",
   "execution_count": 33,
   "metadata": {},
   "outputs": [
    {
     "name": "stdout",
     "output_type": "stream",
     "text": [
      "got value: 0\n",
      "got value: 1\n",
      "got value: 2\n",
      "got value: 3\n",
      "got value: 4\n",
      "got value: 5\n",
      "got value: 6\n",
      "got value: 7\n",
      "got value: 8\n",
      "got value: 9\n"
     ]
    }
   ],
   "source": [
    "import sys\n",
    "\n",
    "def observer(value):\n",
    "    print(f\"got value: {value}\")\n",
    "\n",
    "def infinite():\n",
    "    def subscribe(obv):\n",
    "        for x in range(1000):\n",
    "            obv(x)\n",
    "\n",
    "    return subscribe\n",
    "\n",
    "def take(count):\n",
    "    def obs(source):\n",
    "        def subscribe(obv):\n",
    "            n = count\n",
    "            def observer(value):\n",
    "                nonlocal n\n",
    "                if n > 0:\n",
    "                    obv(value)\n",
    "                n -= 1\n",
    "\n",
    "            source(observer)\n",
    "        return subscribe\n",
    "    return obs\n",
    "\n",
    "take(10)(infinite())(observer)"
   ]
  },
  {
   "cell_type": "code",
   "execution_count": 34,
   "metadata": {},
   "outputs": [
    {
     "name": "stdout",
     "output_type": "stream",
     "text": [
      "got value: 0\n",
      "got value: 1\n",
      "got value: 2\n",
      "got value: 3\n",
      "got value: 4\n",
      "got value: 5\n",
      "got value: 6\n",
      "got value: 7\n",
      "got value: 8\n",
      "got value: 9\n"
     ]
    }
   ],
   "source": [
    "def pipe(arg, *fns):\n",
    "    for fn in fns:\n",
    "        arg = fn(arg)\n",
    "    return arg\n",
    "\n",
    "\n",
    "observable = pipe(\n",
    "    infinite(),  # infinite sequence of values\n",
    "    take(10)     # take the first 10\n",
    ")\n",
    "\n",
    "observable(observer)"
   ]
  },
  {
   "cell_type": "markdown",
   "metadata": {},
   "source": [
    "[RxPY](https://github.com/ReactiveX/RxPY) is an implementation of `Observable` and [aioreactive](https://github.com/dbrattli/aioreactive) project is an implementation of `AsyncObservable`."
   ]
  }
 ],
 "metadata": {
  "celltoolbar": "Slideshow",
  "jupytext": {
   "cell_metadata_filter": "-all",
   "formats": "ipynb,md",
   "notebook_metadata_filter": "-all"
  },
  "kernelspec": {
   "display_name": "Python 3",
   "language": "python",
   "name": "python3"
  },
  "language": "fsharp",
  "language_info": {
   "codemirror_mode": {
    "name": "ipython",
    "version": 3
   },
   "file_extension": ".py",
   "mimetype": "text/x-python",
   "name": "python",
   "nbconvert_exporter": "python",
   "pygments_lexer": "ipython3",
   "version": "3.9.0"
  }
 },
 "nbformat": 4,
 "nbformat_minor": 4
}
