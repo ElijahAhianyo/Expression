{
 "cells": [
  {
   "cell_type": "markdown",
   "metadata": {
    "slideshow": {
     "slide_type": "slide"
    }
   },
   "source": [
    "# λ Calculus\n",
    "\n",
    "Lambda calculus was introduced by mathematician Alonzo Church in the 1930s as part of an investigation into the foundations of mathematics\n",
    "\n",
    "- Lambda calculus is a formal language\n",
    "- The expressions of the language are called lambda terms\n",
    "- Everything is a function, there are no literals\n",
    "\n",
    "In lambda calculus, we write `(f x)` instead of the more traditional `f(x)`.\n",
    "\n",
    "Many real-world programming languages can be regarded as extensions of the lambda calculus. This is true for all functional programming languages, a class that includes Lisp, Scheme, Haskell, and ML (OCaml, F#)."
   ]
  },
  {
   "cell_type": "markdown",
   "metadata": {
    "slideshow": {
     "slide_type": "slide"
    }
   },
   "source": [
    "## Lambda calculus in Python"
   ]
  },
  {
   "cell_type": "code",
   "execution_count": 1,
   "metadata": {
    "slideshow": {
     "slide_type": "fragment"
    }
   },
   "outputs": [],
   "source": [
    "identity = lambda x: x\n",
    "\n",
    "zero = lambda f: identity\n",
    "one = lambda f: lambda x: f(x)\n",
    "two = lambda f: lambda x: f(f(x))\n",
    "three = lambda f: lambda x: f(f(f(x)))"
   ]
  },
  {
   "cell_type": "code",
   "execution_count": 4,
   "metadata": {
    "scrolled": true,
    "slideshow": {
     "slide_type": "slide"
    }
   },
   "outputs": [
    {
     "data": {
      "text/plain": [
       "3"
      ]
     },
     "execution_count": 4,
     "metadata": {},
     "output_type": "execute_result"
    }
   ],
   "source": [
    "# Don't repeat yourself (DRY)\n",
    "succ = lambda numeral: lambda f: lambda x: f(numeral(f)(x))\n",
    "two = succ(one)\n",
    "three = succ(two)\n",
    "\n",
    "three(lambda x: x+1)(0)"
   ]
  },
  {
   "cell_type": "markdown",
   "metadata": {
    "slideshow": {
     "slide_type": "slide"
    }
   },
   "source": [
    "# Tools of lambda calculus\n",
    "\n",
    "Substitution rules of programming\n",
    "\n",
    "- **α-conversion:** changing bound variables (alpha);\n",
    "- **β-reduction:** applying functions to their arguments (beta);\n",
    "- **η-conversion:** which captures a notion of extensionality (eta)."
   ]
  },
  {
   "cell_type": "markdown",
   "metadata": {},
   "source": [
    "## Alpha Conversion\n",
    "\n",
    "Alpha-conversion is about renaming of bound variables"
   ]
  },
  {
   "cell_type": "code",
   "execution_count": 5,
   "metadata": {
    "slideshow": {
     "slide_type": "slide"
    }
   },
   "outputs": [
    {
     "data": {
      "text/plain": [
       "True"
      ]
     },
     "execution_count": 5,
     "metadata": {},
     "output_type": "execute_result"
    }
   ],
   "source": [
    "(lambda x: x)(42) == (lambda y: y)(42) # Renaming"
   ]
  },
  {
   "cell_type": "markdown",
   "metadata": {},
   "source": [
    "## Beta Reduction\n",
    "\n",
    "A beta reduction (also written β reduction) is the process of calculating a result from the application of a function to an expression.\n",
    "\n",
    "((λn.n×2) 7) → 7×2.\n"
   ]
  },
  {
   "cell_type": "code",
   "execution_count": 3,
   "metadata": {},
   "outputs": [
    {
     "data": {
      "text/plain": [
       "True"
      ]
     },
     "execution_count": 3,
     "metadata": {},
     "output_type": "execute_result"
    }
   ],
   "source": [
    "(lambda n: n*2)(7) == 7*2"
   ]
  },
  {
   "cell_type": "markdown",
   "metadata": {},
   "source": [
    "## Eta-conversion\n",
    "\n",
    "An eta conversion (also written η-conversion) is adding, or dropping an abstraction over a function."
   ]
  },
  {
   "cell_type": "code",
   "execution_count": null,
   "metadata": {},
   "outputs": [],
   "source": [
    "# Eta-conversion\n",
    "# λx.(f x) and f\n",
    "f = lambda x: x\n",
    "\n",
    "(lambda x: f(x)) == f"
   ]
  },
  {
   "cell_type": "markdown",
   "metadata": {},
   "source": [
    "Extensive use of η-*reduction* can lead to what's called *point-free* programming.\n",
    "\n",
    "> Extensive use of point-free programming can lead to *point-less* programming."
   ]
  },
  {
   "cell_type": "code",
   "execution_count": 7,
   "metadata": {
    "lines_to_next_cell": 0
   },
   "outputs": [
    {
     "name": "stdout",
     "output_type": "stream",
     "text": [
      "9\n",
      "9\n"
     ]
    }
   ],
   "source": [
    "from functools import reduce\n",
    "\n",
    "xs = reduce(lambda acc, x: max(acc, x), range(10))\n",
    "print(xs)\n",
    "\n",
    "xs = reduce(max, range(10))\n",
    "print(xs)"
   ]
  },
  {
   "cell_type": "markdown",
   "metadata": {},
   "source": []
  },
  {
   "cell_type": "markdown",
   "metadata": {},
   "source": [
    "## Do we need to know about lambda calculus?\n",
    "\n",
    "You usually do not need to know about lambda calculus. But look out for point-free programming which may both simplify or over complicate your code. Lambda calculus is a must-have knowledge when dealing with compilers and expression trees (ASTs)."
   ]
  }
 ],
 "metadata": {
  "celltoolbar": "Slideshow",
  "jupytext": {
   "cell_metadata_filter": "-all",
   "formats": "ipynb,md",
   "notebook_metadata_filter": "-all"
  },
  "kernelspec": {
   "display_name": "Python 3",
   "language": "python",
   "name": "python3"
  },
  "language": "fsharp",
  "language_info": {
   "codemirror_mode": {
    "name": "ipython",
    "version": 3
   },
   "file_extension": ".py",
   "mimetype": "text/x-python",
   "name": "python",
   "nbconvert_exporter": "python",
   "pygments_lexer": "ipython3",
   "version": "3.9.0"
  }
 },
 "nbformat": 4,
 "nbformat_minor": 4
}
